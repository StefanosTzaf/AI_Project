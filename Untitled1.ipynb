{
  "cells": [
    {
      "cell_type": "markdown",
      "metadata": {
        "id": "sV-xEU2UBzYu"
      },
      "source": [
        "AI LAB"
      ]
    },
    {
      "cell_type": "markdown",
      "metadata": {
        "id": "2azXIukpFN0G"
      },
      "source": [
        "\n",
        "\n",
        "## 1. Problem Definition - Introduction ##\n",
        "\n"
      ]
    },
    {
      "cell_type": "markdown",
      "metadata": {
        "id": "DrVogG8BJAby"
      },
      "source": [
        "## 2. Data Visualization  ##"
      ]
    },
    {
      "cell_type": "markdown",
      "metadata": {},
      "source": [
        "All images of HiXray dataset are annotated manually by professional inspectors from an international airport, and the standard of annotating is based on the standard of training security inspectors.\n",
        "\n",
        "HiXray dataset contains a total of 45364 X-ray images(36295 for training, 9069 for testing), including 8 categories of cutters, namely, 'Portable_Charger_1','Portable_Charger_2','Mobile_Phone','Laptop','Tablet','Cosmetic','Water','Nonmetallic_Lighter'.\n",
        "\n",
        "The information structure of annotation file is as follows: image name, category, top-left position of prohibited item (x1, y1), bottom-right position of prohibited item (x2, y2).\n",
        "\n",
        "\n",
        "Let's see an example:"
      ]
    },
    {
      "cell_type": "code",
      "execution_count": null,
      "metadata": {},
      "outputs": [],
      "source": []
    },
    {
      "cell_type": "code",
      "execution_count": null,
      "metadata": {},
      "outputs": [],
      "source": []
    },
    {
      "cell_type": "code",
      "execution_count": null,
      "metadata": {},
      "outputs": [],
      "source": []
    },
    {
      "cell_type": "markdown",
      "metadata": {},
      "source": [
        "The corresponding annotation is this:"
      ]
    },
    {
      "cell_type": "code",
      "execution_count": 11,
      "metadata": {},
      "outputs": [
        {
          "name": "stdout",
          "output_type": "stream",
          "text": [
            "Content of 002817501006190.txt:\n",
            "\n",
            "002817501006190.jpg Portable_Charger_2 442 642 517 769\n",
            "002817501006190.jpg Mobile_Phone 621 548 717 723\n",
            "\n"
          ]
        }
      ],
      "source": [
        "# Display the text content\n",
        "print(f\"Content of {txt_file_name}:\\n\")\n",
        "print(txt_content)"
      ]
    },
    {
      "cell_type": "markdown",
      "metadata": {},
      "source": [
        "----- οταν φτιάξουμε το ui na mpei edo ena paradeigna -------"
      ]
    },
    {
      "cell_type": "markdown",
      "metadata": {},
      "source": [
        "The images are in arbitrary sizes. Therefore we will resize them "
      ]
    },
    {
      "cell_type": "code",
      "execution_count": 17,
      "metadata": {},
      "outputs": [
        {
          "ename": "ModuleNotFoundError",
          "evalue": "No module named 'cv2'",
          "output_type": "error",
          "traceback": [
            "\u001b[0;31m---------------------------------------------------------------------------\u001b[0m",
            "\u001b[0;31mModuleNotFoundError\u001b[0m                       Traceback (most recent call last)",
            "Cell \u001b[0;32mIn[17], line 1\u001b[0m\n\u001b[0;32m----> 1\u001b[0m \u001b[38;5;28;01mimport\u001b[39;00m \u001b[38;5;21;01mcv2\u001b[39;00m\n\u001b[1;32m      2\u001b[0m \u001b[38;5;28;01mimport\u001b[39;00m \u001b[38;5;21;01mnumpy\u001b[39;00m \u001b[38;5;28;01mas\u001b[39;00m \u001b[38;5;21;01mnp\u001b[39;00m\n\u001b[1;32m      4\u001b[0m \u001b[38;5;28;01mdef\u001b[39;00m \u001b[38;5;21mbase_transform\u001b[39m(image, size, mean):\n",
            "\u001b[0;31mModuleNotFoundError\u001b[0m: No module named 'cv2'"
          ]
        }
      ],
      "source": [
        "import cv2\n",
        "import numpy as np\n",
        "\n",
        "def base_transform(image, size, mean):\n",
        "    x = cv2.resize(image, (size, size)).astype(np.float32)\n",
        "    x -= mean\n",
        "    x = x.astype(np.float32)\n",
        "    return x\n",
        "\n",
        "\n",
        "class BaseTransform:\n",
        "    def __init__(self, size, mean):\n",
        "        self.size = size\n",
        "        self.mean = np.array(mean, dtype=np.float32)\n",
        "\n",
        "    def __call__(self, image, boxes=None, labels=None):\n",
        "        return base_transform(image, self.size, self.mean), boxes, labels"
      ]
    },
    {
      "cell_type": "markdown",
      "metadata": {},
      "source": []
    },
    {
      "cell_type": "markdown",
      "metadata": {
        "id": "fcuL9yhWNWOn"
      },
      "source": [
        "## 3. Data Preprocessing ##"
      ]
    },
    {
      "cell_type": "markdown",
      "metadata": {
        "id": "QvSPnF9BQFm8"
      },
      "source": [
        " ## 4. Model Selection ##"
      ]
    },
    {
      "cell_type": "markdown",
      "metadata": {
        "id": "QV59bA4GQGea"
      },
      "source": [
        "## 5. Model Training ##"
      ]
    },
    {
      "cell_type": "markdown",
      "metadata": {
        "id": "iYw_-YFVQIk2"
      },
      "source": [
        "## 6. Model Evaluation ##"
      ]
    },
    {
      "cell_type": "markdown",
      "metadata": {
        "id": "r8-wUGkEQOpM"
      },
      "source": [
        "## 7. Model Optimization ##"
      ]
    },
    {
      "cell_type": "markdown",
      "metadata": {
        "id": "W-0vr2aXSyBJ"
      },
      "source": [
        "8."
      ]
    },
    {
      "cell_type": "code",
      "execution_count": null,
      "metadata": {
        "id": "YndAZ0J0Qi60"
      },
      "outputs": [],
      "source": []
    },
    {
      "cell_type": "code",
      "execution_count": null,
      "metadata": {
        "colab": {
          "base_uri": "https://localhost:8080/"
        },
        "id": "GMR9i2QmBgkD",
        "outputId": "c8dff255-d45d-4766-8235-91206b76c52f"
      },
      "outputs": [
        {
          "name": "stdout",
          "output_type": "stream",
          "text": [
            "Unzipped to: baggage_xray_dataset\n"
          ]
        }
      ],
      "source": [
        "import zipfile\n",
        "import os\n",
        "\n",
        "# Path to your zip file\n",
        "zip_path = 'HiXray.zip'\n",
        "\n",
        "# Folder to extract to\n",
        "extract_dir = 'baggage_xray_dataset'\n",
        "\n",
        "# Create the folder if it doesn't exist\n",
        "os.makedirs(extract_dir, exist_ok=True)\n",
        "\n",
        "# Unzip the file\n",
        "##with zipfile.ZipFile(zip_path, 'r') as zip_ref:\n",
        "   ## zip_ref.extractall(extract_dir)\n",
        "\n",
        "print(f\"Unzipped to: {extract_dir}\")\n"
      ]
    },
    {
      "cell_type": "code",
      "execution_count": null,
      "metadata": {
        "id": "DNinz0b3WzSG"
      },
      "outputs": [],
      "source": []
    },
    {
      "cell_type": "code",
      "execution_count": null,
      "metadata": {
        "id": "odNwIHq6SOs2"
      },
      "outputs": [],
      "source": []
    }
  ],
  "metadata": {
    "colab": {
      "provenance": []
    },
    "kernelspec": {
      "display_name": "base",
      "language": "python",
      "name": "python3"
    },
    "language_info": {
      "codemirror_mode": {
        "name": "ipython",
        "version": 3
      },
      "file_extension": ".py",
      "mimetype": "text/x-python",
      "name": "python",
      "nbconvert_exporter": "python",
      "pygments_lexer": "ipython3",
      "version": "3.12.7"
    }
  },
  "nbformat": 4,
  "nbformat_minor": 0
}
