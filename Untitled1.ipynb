{
  "cells": [
    {
      "cell_type": "markdown",
      "metadata": {
        "id": "sV-xEU2UBzYu"
      },
      "source": [
        "AI LAB"
      ]
    },
    {
      "cell_type": "markdown",
      "metadata": {
        "id": "2azXIukpFN0G"
      },
      "source": [
        "\n",
        "\n",
        "## 1. Problem Definition - Introduction ##\n",
        "\n"
      ]
    },
    {
      "cell_type": "markdown",
      "metadata": {
        "id": "DrVogG8BJAby"
      },
      "source": [
        "## 2. Data Visualization  ##"
      ]
    },
    {
      "cell_type": "markdown",
      "metadata": {
        "id": "fcuL9yhWNWOn"
      },
      "source": [
        "## 3. Data Preprocessing ##"
      ]
    },
    {
      "cell_type": "markdown",
      "metadata": {
        "id": "QvSPnF9BQFm8"
      },
      "source": [
        " ## 4. Model Selection ##"
      ]
    },
    {
      "cell_type": "markdown",
      "metadata": {
        "id": "QV59bA4GQGea"
      },
      "source": [
        "## 5. Model Training ##"
      ]
    },
    {
      "cell_type": "markdown",
      "metadata": {
        "id": "iYw_-YFVQIk2"
      },
      "source": [
        "## 6. Model Evaluation ##"
      ]
    },
    {
      "cell_type": "markdown",
      "metadata": {
        "id": "r8-wUGkEQOpM"
      },
      "source": [
        "## 7. Model Optimization ##"
      ]
    },
    {
      "cell_type": "markdown",
      "metadata": {
        "id": "W-0vr2aXSyBJ"
      },
      "source": [
        "8."
      ]
    },
    {
      "cell_type": "code",
      "execution_count": null,
      "metadata": {
        "id": "YndAZ0J0Qi60"
      },
      "outputs": [],
      "source": []
    },
    {
      "cell_type": "code",
      "execution_count": 1,
      "metadata": {
        "colab": {
          "base_uri": "https://localhost:8080/"
        },
        "id": "GMR9i2QmBgkD",
        "outputId": "c8dff255-d45d-4766-8235-91206b76c52f"
      },
      "outputs": [
        {
          "name": "stdout",
          "output_type": "stream",
          "text": [
            "Unzipped to: baggage_xray_dataset\n"
          ]
        }
      ],
      "source": [
        "import zipfile\n",
        "import os\n",
        "\n",
        "# Path to your zip file\n",
        "zip_path = 'HiXray.zip'\n",
        "\n",
        "# Folder to extract to\n",
        "extract_dir = 'baggage_xray_dataset'\n",
        "\n",
        "# Create the folder if it doesn't exist\n",
        "os.makedirs(extract_dir, exist_ok=True)\n",
        "\n",
        "# Unzip the file\n",
        "with zipfile.ZipFile(zip_path, 'r') as zip_ref:\n",
        "    zip_ref.extractall(extract_dir)\n",
        "\n",
        "print(f\"Unzipped to: {extract_dir}\")\n"
      ]
    },
    {
      "cell_type": "code",
      "execution_count": null,
      "metadata": {
        "id": "DNinz0b3WzSG"
      },
      "outputs": [],
      "source": []
    },
    {
      "cell_type": "code",
      "execution_count": null,
      "metadata": {
        "id": "odNwIHq6SOs2"
      },
      "outputs": [],
      "source": []
    }
  ],
  "metadata": {
    "colab": {
      "provenance": []
    },
    "kernelspec": {
      "display_name": ".venv",
      "language": "python",
      "name": "python3"
    },
    "language_info": {
      "name": "python",
      "version": "3.12.3"
    }
  },
  "nbformat": 4,
  "nbformat_minor": 0
}
